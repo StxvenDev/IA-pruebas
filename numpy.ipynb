{
 "cells": [
  {
   "cell_type": "markdown",
   "metadata": {},
   "source": [
    "## Uso inicial de numpy"
   ]
  },
  {
   "cell_type": "code",
   "execution_count": 8,
   "metadata": {},
   "outputs": [
    {
     "name": "stdout",
     "output_type": "stream",
     "text": [
      "transformacion de la lista de python en array de np [1 2 3 4 5]\n",
      "array de np generado de manera secuencial [0 1 2 3 4 5 6 7 8 9]\n",
      "un array de numeros equidistantes [0.  0.5 1.  1.5 2. ]\n"
     ]
    }
   ],
   "source": [
    "import numpy as np\n",
    "\n",
    "a = np.array([1,2,3,4,5])\n",
    "b = np.arange(10)\n",
    "c = np.linspace(0, 2, 5)\n",
    "\n",
    "print(\"transformacion de la lista de python en array de np\", a)\n",
    "print(\"array de np generado de manera secuencial\", b)\n",
    "print(\"un array de numeros equidistantes\", c)"
   ]
  },
  {
   "cell_type": "markdown",
   "metadata": {},
   "source": [
    "### Trabajando con array 1D"
   ]
  },
  {
   "cell_type": "code",
   "execution_count": 12,
   "metadata": {},
   "outputs": [
    {
     "name": "stdout",
     "output_type": "stream",
     "text": [
      "sub-array desde el 6 al 19 [ 6  7  8  9 10 11 12 13 14 15 16 17 18 19]\n",
      "ultimo elemento 19\n",
      "primer elemento 0\n"
     ]
    }
   ],
   "source": [
    "import numpy as np\n",
    "\n",
    "array = np.arange(20)\n",
    "sub_arr = array[6:20]\n",
    "\n",
    "print(\"sub-array desde el 6 al 19\", sub_arr)\n",
    "\n",
    "print(\"ultimo elemento\", array[-1])\n",
    "print(\"primer elemento\", array[0])"
   ]
  },
  {
   "cell_type": "code",
   "execution_count": 14,
   "metadata": {},
   "outputs": [
    {
     "name": "stdout",
     "output_type": "stream",
     "text": [
      "multiplicacion de las matrices [10 22 36 52 70]\n",
      "suma de las matrices [11 13 15 17 19]\n"
     ]
    }
   ],
   "source": [
    "import numpy as np\n",
    "\n",
    "arr   = np.array([10, 11, 12, 13, 14])\n",
    "arr2  = np.array([1, 2, 3, 4, 5])\n",
    "\n",
    "suma  = arr + arr2\n",
    "mult   = arr2 * arr \n",
    "\n",
    "print(\"multiplicacion de las matrices\", mult)\n",
    "print(\"suma de las matrices\", suma)"
   ]
  },
  {
   "cell_type": "markdown",
   "metadata": {},
   "source": [
    "### Trabajando con arrays 2D"
   ]
  },
  {
   "cell_type": "code",
   "execution_count": 28,
   "metadata": {},
   "outputs": [
    {
     "name": "stdout",
     "output_type": "stream",
     "text": [
      "Resultado del broadcasting\n",
      " [[ 11  32  53]\n",
      " [ 21  42  63]\n",
      " [201 402 603]]\n",
      "Producto de A * B\n",
      " [[  5070  15150  25230]\n",
      " [  6100  18220  30340]\n",
      " [ 61000 182200 303400]]\n",
      "Transpuesta de A\n",
      " [[ 10  20 200]\n",
      " [ 30  40 400]\n",
      " [ 50  60 600]]\n",
      "Determinante de A\n",
      " 0.0\n"
     ]
    }
   ],
   "source": [
    "import numpy as np\n",
    "\n",
    "A = np.array([[10, 30, 50],\n",
    "             [20, 40, 60],\n",
    "             [200,400,600]])\n",
    "\n",
    "c = np.array([1,2,3])\n",
    "\n",
    "print(\"Resultado del broadcasting\\n\", A + c)\n",
    "\n",
    "B = np.array([[1, 3, 5],\n",
    "             [2, 4, 6],\n",
    "             [100,300,500]])\n",
    "\n",
    "producto = np.dot(A, B)\n",
    "determinante = np.linalg.det(B)\n",
    "print(\"Producto de A * B\\n\", producto)\n",
    "print(\"Transpuesta de A\\n\", A.T)\n",
    "print(\"Determinante de A\\n\", determinante)"
   ]
  },
  {
   "cell_type": "markdown",
   "metadata": {},
   "source": [
    "### Estadistica y manipulacion de datos"
   ]
  },
  {
   "cell_type": "code",
   "execution_count": null,
   "metadata": {},
   "outputs": [],
   "source": [
    "import numpy as np\n",
    "\n",
    "datos = np.random.rand(100)\n",
    "\n",
    "media = np.mean(datos)\n",
    "mediana = np.median(datos)\n",
    "desviacion = np.std(datos);"
   ]
  }
 ],
 "metadata": {
  "kernelspec": {
   "display_name": ".venv",
   "language": "python",
   "name": "python3"
  },
  "language_info": {
   "codemirror_mode": {
    "name": "ipython",
    "version": 3
   },
   "file_extension": ".py",
   "mimetype": "text/x-python",
   "name": "python",
   "nbconvert_exporter": "python",
   "pygments_lexer": "ipython3",
   "version": "3.13.2"
  }
 },
 "nbformat": 4,
 "nbformat_minor": 2
}
