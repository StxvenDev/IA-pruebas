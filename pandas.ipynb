{
 "cells": [
  {
   "cell_type": "markdown",
   "metadata": {},
   "source": [
    "## Manejo de pandas"
   ]
  },
  {
   "cell_type": "code",
   "execution_count": 1,
   "metadata": {},
   "outputs": [
    {
     "name": "stdout",
     "output_type": "stream",
     "text": [
      "   Nombre  Edad     Ciudad\n",
      "0     Ana    25     Madrid\n",
      "1    Juan    30  Barcelona\n",
      "2   Sofia    22   Valencia\n",
      "3  Carlos    35    Sevilla\n"
     ]
    }
   ],
   "source": [
    "import pandas as pd\n",
    "datos = {\n",
    "    'Nombre': ['Ana', 'Juan', 'Sofia', 'Carlos'],\n",
    "    'Edad': [25, 30, 22, 35],\n",
    "    'Ciudad': ['Madrid', 'Barcelona', 'Valencia', 'Sevilla']\n",
    "}\n",
    "\n",
    "df = pd.DataFrame(datos)\n",
    "print(df)"
   ]
  },
  {
   "cell_type": "code",
   "execution_count": 45,
   "metadata": {},
   "outputs": [
    {
     "name": "stdout",
     "output_type": "stream",
     "text": [
      "Cantidad de cigarrillos fumados al dia\n",
      " Country       Gender\n",
      "Bangladesh    Female    19421\n",
      "              Male      42097\n",
      "Brazil        Female    19193\n",
      "              Male      42172\n",
      "China         Female    18460\n",
      "              Male      43055\n",
      "DR Congo      Female    18984\n",
      "              Male      42292\n",
      "Egypt         Female    20053\n",
      "              Male      42205\n",
      "Ethiopia      Female    20702\n",
      "              Male      43625\n",
      "France        Female    20085\n",
      "              Male      42572\n",
      "Germany       Female    19340\n",
      "              Male      41937\n",
      "India         Female    19088\n",
      "              Male      42930\n",
      "Indonesia     Female    19442\n",
      "              Male      42714\n",
      "Iran          Female    19113\n",
      "              Male      42335\n",
      "Italy         Female    19108\n",
      "              Male      42907\n",
      "Japan         Female    19579\n",
      "              Male      44548\n",
      "Mexico        Female    18533\n",
      "              Male      43755\n",
      "Myanmar       Female    20064\n",
      "              Male      41907\n",
      "Nigeria       Female    19696\n",
      "              Male      41931\n",
      "Pakistan      Female    19842\n",
      "              Male      41943\n",
      "Philippines   Female    19382\n",
      "              Male      43386\n",
      "Russia        Female    19281\n",
      "              Male      41914\n",
      "South Africa  Female    20072\n",
      "              Male      42058\n",
      "Thailand      Female    18100\n",
      "              Male      41321\n",
      "Turkey        Female    19792\n",
      "              Male      42419\n",
      "UK            Female    18367\n",
      "              Male      40883\n",
      "USA           Female    18868\n",
      "              Male      42633\n",
      "Vietnam       Female    19607\n",
      "              Male      42371\n",
      "Name: Cigarettes_per_Day, dtype: int64\n",
      "\n",
      "Fumadores por genero\n",
      " Gender\n",
      "Female    27654\n",
      "Male      60687\n",
      "Name: Smoker, dtype: int64\n",
      "\n",
      "Tipo de fumadores\n",
      " Passive_Smoker\n",
      "No     61758\n",
      "Yes    26583\n",
      "Name: Smoker, dtype: int64\n"
     ]
    }
   ],
   "source": [
    "import pandas as pd\n",
    "df_lung_cancer = pd.read_csv('lung_cancer.csv')\n",
    "df_lung_cancer.drop('ID', axis = 1, inplace = True)\n",
    "# passive_smoker = df_lung_cancer[df_lung_cancer['Passive_Smoker'] == \"No\"]\n",
    "smokers = df_lung_cancer[df_lung_cancer['Smoker'] == \"Yes\"]\n",
    "smokers_by_country = smokers.groupby(['Country','Gender'])['Cigarettes_per_Day'].sum()\n",
    "smokers_by_gender = smokers.groupby('Gender')['Smoker'].count()\n",
    "age_mean_smokers = smokers['Age'].mean()\n",
    "type_smoker = smokers.groupby('Passive_Smoker')['Smoker'].count()\n",
    "print('Cantidad de cigarrillos fumados al dia\\n', smokers_by_country)\n",
    "print('\\nFumadores por genero\\n', smokers_by_gender)\n",
    "print('\\nTipo de fumadores\\n', type_smoker)\n"
   ]
  },
  {
   "cell_type": "code",
   "execution_count": 5,
   "metadata": {},
   "outputs": [
    {
     "name": "stdout",
     "output_type": "stream",
     "text": [
      "Archivo 'ventas.csv' creado exitosamente.\n"
     ]
    }
   ],
   "source": [
    "import pandas as pd\n",
    "import numpy as np\n",
    "\n",
    "np.random.seed(42)\n",
    "num_registros = 1000\n",
    "\n",
    "fechas = pd.date_range(start='2024-01-01', end='2024-12-31', freq=\"D\")\n",
    "fechas = np.random.choice(fechas, num_registros)\n",
    "productos = ['Camiseta', 'Pantalon', 'Zapas', 'Bolso', 'Gorra', 'Reloj']\n",
    "categorias = ['Ropa', 'Ropa', 'Calzado', 'Accesorios', 'Accesorios', 'Accesorios']\n",
    "precios = np.random.uniform(20, 150, num_registros)\n",
    "cantidades = np.random.randint(1, 10, num_registros)\n",
    "ciudades = ['Cartagena', 'Berlin', 'Milan', 'Bogota', 'Quito', 'Arica']\n",
    "data = {\n",
    "    'Fecha': fechas,\n",
    "    'Producto': np.random.choice(productos, num_registros),\n",
    "    'Categoria': [categorias[productos.index(p)] for p in np.random.choice(productos, num_registros)],\n",
    "    'Precio': precios,\n",
    "    'Cantidad': cantidades,\n",
    "    'Ciudad': np.random.choice(ciudades, num_registros)\n",
    "}\n",
    "\n",
    "df_data = pd.DataFrame(data)\n",
    "df_data = df_data.sort_values(by='Fecha').reset_index(drop=True)\n",
    "df_data.to_csv('ventas.csv', index=False)\n",
    "print(\"Archivo 'ventas.csv' creado exitosamente.\")"
   ]
  },
  {
   "cell_type": "code",
   "execution_count": 9,
   "metadata": {},
   "outputs": [
    {
     "name": "stdout",
     "output_type": "stream",
     "text": [
      "ventas por categoria y ciudad:\n",
      "      Categoria     Ciudad  Ventas_Totales\n",
      "0   Accesorios      Arica    38075.237883\n",
      "1   Accesorios     Berlin    34032.791071\n",
      "2   Accesorios     Bogota    41923.016056\n",
      "3   Accesorios  Cartagena    28215.740684\n",
      "4   Accesorios      Milan    40039.019209\n",
      "5   Accesorios      Quito    40216.339383\n",
      "6      Calzado      Arica     7446.997626\n",
      "7      Calzado     Berlin    12149.999868\n",
      "8      Calzado     Bogota    12716.593445\n",
      "9      Calzado  Cartagena    10900.545969\n",
      "10     Calzado      Milan    12766.031060\n",
      "11     Calzado      Quito    14002.373873\n",
      "12        Ropa      Arica    25128.962435\n",
      "13        Ropa     Berlin    24211.068748\n",
      "14        Ropa     Bogota    22025.546958\n",
      "15        Ropa  Cartagena    21504.790128\n",
      "16        Ropa      Milan    22664.728419\n",
      "17        Ropa      Quito    21036.352886\n"
     ]
    }
   ],
   "source": [
    "ventas_df = pd.read_csv('ventas.csv')\n",
    "\n",
    "ventas_df['Ventas_Totales'] = ventas_df['Precio'] * ventas_df['Cantidad']\n",
    "ventas_por_categoria_ciudad = ventas_df.groupby(['Categoria', 'Ciudad'])['Ventas_Totales'].sum().reset_index()\n",
    "print(\"ventas por categoria y ciudad:\\n\", ventas_por_categoria_ciudad)"
   ]
  }
 ],
 "metadata": {
  "kernelspec": {
   "display_name": ".venv",
   "language": "python",
   "name": "python3"
  },
  "language_info": {
   "codemirror_mode": {
    "name": "ipython",
    "version": 3
   },
   "file_extension": ".py",
   "mimetype": "text/x-python",
   "name": "python",
   "nbconvert_exporter": "python",
   "pygments_lexer": "ipython3",
   "version": "3.13.2"
  }
 },
 "nbformat": 4,
 "nbformat_minor": 2
}
