{
 "cells": [
  {
   "cell_type": "markdown",
   "metadata": {},
   "source": [
    "### Mis notas de IA - python"
   ]
  },
  {
   "cell_type": "markdown",
   "metadata": {},
   "source": [
    "#### Una clase de prueba"
   ]
  },
  {
   "cell_type": "code",
   "execution_count": 4,
   "metadata": {},
   "outputs": [],
   "source": [
    "import math\n",
    "class Triangulo:\n",
    "\n",
    "  def __init__(self, base, altura, angulo):\n",
    "    self.base       = base\n",
    "    self.altura     = altura\n",
    "    self.angulo     = angulo\n",
    "  \n",
    "  def calcularArea(self):\n",
    "    if (self.base * self.altura) <= 0:\n",
    "      raise ValueError(\"La base y la altura no pueden ser 0 o valores negativos\")       \n",
    "    area = (self.base * self.altura)/2\n",
    "    return area\n",
    "  \n",
    "  def calcularHipotenusa(self):\n",
    "    \"\"\"\"Calcular la hipotenusa a partir de la base y la altura\"\"\" #Docstring\n",
    "    if self.angulo != 90:\n",
    "      raise ValueError(\"Solamente se aceptan triangulos rectangulos\")\n",
    "    self.hipotenusa = self.base ** 2 + self.altura ** 2\n",
    "    return math.sqrt(self.hipotenusa)"
   ]
  },
  {
   "cell_type": "code",
   "execution_count": 7,
   "metadata": {},
   "outputs": [
    {
     "name": "stdout",
     "output_type": "stream",
     "text": [
      "El triangulo tiene un area de 100.0 y su hipotenusa es 22.360679774997898\n"
     ]
    }
   ],
   "source": [
    "triangulo = Triangulo(10, 20, 90)\n",
    "\n",
    "area = triangulo.calcularArea()\n",
    "hipotenusa = triangulo.calcularHipotenusa()\n",
    "\n",
    "print(f\"El triangulo tiene un area de {area} y su hipotenusa es {hipotenusa}\")"
   ]
  },
  {
   "cell_type": "code",
   "execution_count": 30,
   "metadata": {},
   "outputs": [],
   "source": [
    "class Persona:\n",
    "  nombre : str\n",
    "  edad   : int\n",
    "  def __init__(self, nombre, edad):\n",
    "    self.nombre = nombre\n",
    "    self.edad = edad\n",
    "  \n",
    "  def presentacion(self):\n",
    "    print(f\"Hola mi nombre es {self.nombre} y tengo {self.edad} años.\")\n",
    "  \n",
    "  def cambiar_nombre(self, nombre):\n",
    "    self.nombre = nombre"
   ]
  },
  {
   "cell_type": "code",
   "execution_count": 14,
   "metadata": {},
   "outputs": [
    {
     "name": "stdout",
     "output_type": "stream",
     "text": [
      "Hola mi nombre es adrian y tengo 45 años. actualmente no trabajo\n",
      "Hola mi nombre es adrianZzz y tengo 45 años. actualmente no trabajo\n"
     ]
    }
   ],
   "source": [
    "adrian = Persona(\"adrian\", 45)\n",
    "adrian.presentacion()\n",
    "adrian.cambiar_nombre(\"adrianZzz\")\n",
    "adrian.presentacion()\n"
   ]
  },
  {
   "cell_type": "code",
   "execution_count": 19,
   "metadata": {},
   "outputs": [],
   "source": [
    "class Empleado(Persona):\n",
    "  def __init__(self, nombre, edad, cargo):\n",
    "    super().__init__(nombre, edad)\n",
    "    self.cargo = cargo\n",
    "\n",
    "  def decir_cargo(self):\n",
    "    print(f\"Mi cargo es {self.cargo}\")"
   ]
  },
  {
   "cell_type": "code",
   "execution_count": 21,
   "metadata": {},
   "outputs": [
    {
     "name": "stdout",
     "output_type": "stream",
     "text": [
      "Mi cargo es Desarrollador\n"
     ]
    }
   ],
   "source": [
    "javier = Empleado(\"Javier\", 40, \"Desarrollador\")\n",
    "javier.decir_cargo()\n"
   ]
  },
  {
   "cell_type": "code",
   "execution_count": 22,
   "metadata": {},
   "outputs": [],
   "source": [
    "class Animal:\n",
    "  nombre  : str\n",
    "  edad    : int\n",
    "  def __init__(self, nombre, edad):\n",
    "    self.nombre = nombre\n",
    "    self.edad   = edad\n",
    "  \n",
    "  def cambiar_nombre(self, nombre):\n",
    "    self.nombre = nombre"
   ]
  },
  {
   "cell_type": "code",
   "execution_count": 23,
   "metadata": {},
   "outputs": [],
   "source": [
    "class Perro(Animal):\n",
    "  def __init__(self, nombre, edad, raza):\n",
    "    super().__init__(nombre, edad)\n",
    "    self.raza = raza\n",
    "\n",
    "  def hacer_sonido():\n",
    "    print(\"guau\")\n",
    "  \n",
    "  def hacer_accion(self):\n",
    "    print(f\"{self.nombre} se esta rascando\")"
   ]
  },
  {
   "cell_type": "code",
   "execution_count": 24,
   "metadata": {},
   "outputs": [],
   "source": [
    "class Gato(Animal):\n",
    "  def __init__(self, nombre, edad):\n",
    "    super().__init__(nombre, edad)\n",
    "    \n",
    "  def hacer_sonido():\n",
    "    print(\"miau\")\n",
    "  \n",
    "  def hacer_accion(self):\n",
    "    print(f\"{self.nombre} se esta lamiendo\")"
   ]
  },
  {
   "cell_type": "code",
   "execution_count": 31,
   "metadata": {},
   "outputs": [
    {
     "name": "stdout",
     "output_type": "stream",
     "text": [
      "manchas se esta lamiendo\n",
      "bruno se esta rascando\n",
      "Hola mi nombre es lucho y tengo 89 años.\n",
      "manchi se esta lamiendo\n",
      "bruni se esta rascando\n"
     ]
    }
   ],
   "source": [
    "manchas = Gato(\"manchas\", 3)\n",
    "bruno   = Perro(\"bruno\", 4, \"labrador\")\n",
    "luis = Persona(\"luis\", 89)\n",
    "\n",
    "manchas.hacer_accion()\n",
    "bruno.hacer_accion()\n",
    "luis.cambiar_nombre(\"lucho\")\n",
    "luis.presentacion()\n",
    "manchas.cambiar_nombre(\"manchi\")\n",
    "bruno.cambiar_nombre(\"bruni\")\n",
    "manchas.hacer_accion()\n",
    "bruno.hacer_accion()"
   ]
  },
  {
   "cell_type": "code",
   "execution_count": null,
   "metadata": {},
   "outputs": [],
   "source": []
  }
 ],
 "metadata": {
  "kernelspec": {
   "display_name": ".venv",
   "language": "python",
   "name": "python3"
  },
  "language_info": {
   "codemirror_mode": {
    "name": "ipython",
    "version": 3
   },
   "file_extension": ".py",
   "mimetype": "text/x-python",
   "name": "python",
   "nbconvert_exporter": "python",
   "pygments_lexer": "ipython3",
   "version": "3.13.2"
  }
 },
 "nbformat": 4,
 "nbformat_minor": 2
}
